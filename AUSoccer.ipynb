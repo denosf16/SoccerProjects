{
 "cells": [
  {
   "cell_type": "code",
   "execution_count": 26,
   "metadata": {},
   "outputs": [
    {
     "name": "stdout",
     "output_type": "stream",
     "text": [
      "\n",
      "Processing team_names...\n",
      "\n",
      "Processing player_names...\n",
      "\n",
      "Processing match_data...\n",
      "\n",
      "Processing player_stats...\n",
      "\n",
      "Processing player_salaries...\n"
     ]
    },
    {
     "name": "stderr",
     "output_type": "stream",
     "text": [
      "C:\\Users\\denos\\AppData\\Local\\Temp\\ipykernel_24832\\1518716863.py:22: FutureWarning: DataFrame.applymap has been deprecated. Use DataFrame.map instead.\n",
      "  problematic_rows = df.applymap(lambda x: isinstance(x, (dict, list))).any(axis=1)\n",
      "C:\\Users\\denos\\AppData\\Local\\Temp\\ipykernel_24832\\1518716863.py:64: FutureWarning: DataFrame.applymap has been deprecated. Use DataFrame.map instead.\n",
      "  df[numeric_cols] = df[numeric_cols].applymap(lambda x: None if pd.isna(x) else x)\n",
      "C:\\Users\\denos\\AppData\\Local\\Temp\\ipykernel_24832\\1518716863.py:22: FutureWarning: DataFrame.applymap has been deprecated. Use DataFrame.map instead.\n",
      "  problematic_rows = df.applymap(lambda x: isinstance(x, (dict, list))).any(axis=1)\n",
      "C:\\Users\\denos\\AppData\\Local\\Temp\\ipykernel_24832\\1518716863.py:64: FutureWarning: DataFrame.applymap has been deprecated. Use DataFrame.map instead.\n",
      "  df[numeric_cols] = df[numeric_cols].applymap(lambda x: None if pd.isna(x) else x)\n",
      "C:\\Users\\denos\\AppData\\Local\\Temp\\ipykernel_24832\\1518716863.py:22: FutureWarning: DataFrame.applymap has been deprecated. Use DataFrame.map instead.\n",
      "  problematic_rows = df.applymap(lambda x: isinstance(x, (dict, list))).any(axis=1)\n",
      "C:\\Users\\denos\\AppData\\Local\\Temp\\ipykernel_24832\\1518716863.py:64: FutureWarning: DataFrame.applymap has been deprecated. Use DataFrame.map instead.\n",
      "  df[numeric_cols] = df[numeric_cols].applymap(lambda x: None if pd.isna(x) else x)\n",
      "C:\\Users\\denos\\AppData\\Local\\Temp\\ipykernel_24832\\1518716863.py:22: FutureWarning: DataFrame.applymap has been deprecated. Use DataFrame.map instead.\n",
      "  problematic_rows = df.applymap(lambda x: isinstance(x, (dict, list))).any(axis=1)\n",
      "C:\\Users\\denos\\AppData\\Local\\Temp\\ipykernel_24832\\1518716863.py:64: FutureWarning: DataFrame.applymap has been deprecated. Use DataFrame.map instead.\n",
      "  df[numeric_cols] = df[numeric_cols].applymap(lambda x: None if pd.isna(x) else x)\n",
      "C:\\Users\\denos\\AppData\\Local\\Temp\\ipykernel_24832\\1518716863.py:22: FutureWarning: DataFrame.applymap has been deprecated. Use DataFrame.map instead.\n",
      "  problematic_rows = df.applymap(lambda x: isinstance(x, (dict, list))).any(axis=1)\n",
      "C:\\Users\\denos\\AppData\\Local\\Temp\\ipykernel_24832\\1518716863.py:64: FutureWarning: DataFrame.applymap has been deprecated. Use DataFrame.map instead.\n",
      "  df[numeric_cols] = df[numeric_cols].applymap(lambda x: None if pd.isna(x) else x)\n"
     ]
    },
    {
     "name": "stdout",
     "output_type": "stream",
     "text": [
      "Data uploaded to SQL Server table: AU_team_names\n",
      "Data uploaded to SQL Server table: AU_player_names\n",
      "Data uploaded to SQL Server table: AU_match_data\n",
      "Data uploaded to SQL Server table: AU_player_stats\n",
      "Data uploaded to SQL Server table: AU_player_salaries\n",
      "\n",
      "Processing and Uploading Change Logs...\n",
      "Change logs saved to C:\\\\Users\\\\denos\\\\OneDrive\\\\Projects\\\\AU_Soccer\\AU_change_logs.csv\n",
      "Data uploaded to SQL Server table: AU_ChangeLogs\n",
      "Change logs uploaded to SQL Server.\n"
     ]
    }
   ],
   "source": [
    "import os\n",
    "import pandas as pd\n",
    "import numpy as np\n",
    "from datetime import datetime\n",
    "import pyodbc\n",
    "\n",
    "# Set Export Directory\n",
    "export_dir = r\"C:\\\\Users\\\\denos\\\\OneDrive\\\\Projects\\\\AU_Soccer\"\n",
    "os.makedirs(export_dir, exist_ok=True)\n",
    "\n",
    "# Define a dictionary to log changes\n",
    "change_logs = {}\n",
    "\n",
    "# Function to log changes\n",
    "def log_change(dataset_name, description):\n",
    "    if dataset_name not in change_logs:\n",
    "        change_logs[dataset_name] = []\n",
    "    change_logs[dataset_name].append(f\"{datetime.now()} - {description}\")\n",
    "\n",
    "# Function to handle duplicate rows\n",
    "def handle_duplicate_rows(df, dataset_name):\n",
    "    problematic_rows = df.applymap(lambda x: isinstance(x, (dict, list))).any(axis=1)\n",
    "    if problematic_rows.any():\n",
    "        count = problematic_rows.sum()\n",
    "        log_change(dataset_name, f\"Detected {count} rows with unhashable types. Dropping these rows.\")\n",
    "        df = df[~problematic_rows]\n",
    "\n",
    "    duplicate_count = df.duplicated().sum()\n",
    "    log_change(dataset_name, f\"Detected {duplicate_count} duplicate rows.\")\n",
    "    df = df.drop_duplicates()\n",
    "    log_change(dataset_name, \"Removed duplicate rows.\")\n",
    "    return df\n",
    "\n",
    "# Function to handle duplicate columns\n",
    "def handle_duplicate_columns(df, dataset_name):\n",
    "    df = df.loc[:, ~df.columns.duplicated()]\n",
    "    log_change(dataset_name, \"Removed duplicate columns.\")\n",
    "    return df\n",
    "\n",
    "# Function to drop unwanted columns\n",
    "def drop_unwanted_columns(df, unwanted_columns, dataset_name):\n",
    "    df = df.drop(columns=[col for col in unwanted_columns if col in df.columns], errors=\"ignore\")\n",
    "    log_change(dataset_name, f\"Dropped unwanted columns: {unwanted_columns}\")\n",
    "    return df\n",
    "\n",
    "# Function to validate and cast data for SQL upload\n",
    "def validate_and_cast_data(df):\n",
    "    for col in df.columns:\n",
    "        if df[col].dtype == \"float64\":\n",
    "            df[col] = df[col].apply(lambda x: round(x, 6) if pd.notnull(x) and np.isfinite(x) else None)\n",
    "        elif df[col].dtype == \"object\":\n",
    "            df[col] = df[col].apply(lambda x: str(x) if isinstance(x, (str, int, float)) else None)\n",
    "    return df\n",
    "\n",
    "# Updated clean_dataset function to ensure specific columns are numeric\n",
    "def clean_dataset(df, dataset_name):\n",
    "    # Identify and drop unwanted columns\n",
    "    unwanted_columns = [\"extra_time\", \"penalties\", \"home_penalties\", \"away_penalties\", \"height_ft\", \"height_in\", \"weight_lb\"]\n",
    "    unwanted_columns += [col for col in df.columns if \"outlier\" in col]\n",
    "    df = drop_unwanted_columns(df, unwanted_columns, dataset_name)\n",
    "\n",
    "    # Replace NaN in numeric columns with None (SQL NULL)\n",
    "    numeric_cols = df.select_dtypes(include=[\"float64\"]).columns\n",
    "    df[numeric_cols] = df[numeric_cols].applymap(lambda x: None if pd.isna(x) else x)\n",
    "\n",
    "    # Ensure salary columns are numeric\n",
    "    if \"base_salary\" in df.columns:\n",
    "        df[\"base_salary\"] = pd.to_numeric(df[\"base_salary\"], errors=\"coerce\")\n",
    "    if \"guaranteed_compensation\" in df.columns:\n",
    "        df[\"guaranteed_compensation\"] = pd.to_numeric(df[\"guaranteed_compensation\"], errors=\"coerce\")\n",
    "\n",
    "    # Ensure specific stats columns are numeric\n",
    "    stats_columns = [\n",
    "        \"minutes_played\", \"shots\", \"shots_on_target\", \"goals\", \"xgoals\",\n",
    "        \"xplace\", \"goals_minus_xgoals\", \"key_passes\", \"primary_assists\",\n",
    "        \"xassists\", \"primary_assists_minus_xassists\", \"xgoals_plus_xassists\",\n",
    "        \"points_added\", \"xpoints_added\"\n",
    "    ]\n",
    "    for col in stats_columns:\n",
    "        if col in df.columns:\n",
    "            df[col] = pd.to_numeric(df[col], errors=\"coerce\")  # Convert to numeric, set invalids to NaN\n",
    "\n",
    "    # Ensure all remaining columns are valid\n",
    "    df = validate_and_cast_data(df)\n",
    "\n",
    "    return df\n",
    "\n",
    "# Function to dynamically set SQL data types\n",
    "def get_sql_data_type(dtype):\n",
    "    if pd.api.types.is_integer_dtype(dtype):\n",
    "        return \"INT\"\n",
    "    elif pd.api.types.is_float_dtype(dtype):\n",
    "        return \"FLOAT\"\n",
    "    elif pd.api.types.is_object_dtype(dtype):\n",
    "        return \"NVARCHAR(MAX)\"\n",
    "    elif pd.api.types.is_bool_dtype(dtype):\n",
    "        return \"BIT\"\n",
    "    else:\n",
    "        return \"NVARCHAR(MAX)\"\n",
    "\n",
    "# Function to upload datasets to SQL Server\n",
    "def upload_to_sql(df, table_name, server, database):\n",
    "    connection_string = f\"DRIVER={{ODBC Driver 17 for SQL Server}};SERVER={server};DATABASE={database};Trusted_Connection=yes;\"\n",
    "    conn = pyodbc.connect(connection_string)\n",
    "    cursor = conn.cursor()\n",
    "\n",
    "    # Drop table if it exists\n",
    "    cursor.execute(f\"IF OBJECT_ID('{table_name}', 'U') IS NOT NULL DROP TABLE {table_name}\")\n",
    "    conn.commit()\n",
    "\n",
    "    # Dynamically create table with appropriate data types\n",
    "    create_query = f\"CREATE TABLE {table_name} ({', '.join([f'[{col}] {get_sql_data_type(df[col].dtype)}' for col in df.columns])})\"\n",
    "    cursor.execute(create_query)\n",
    "    conn.commit()\n",
    "\n",
    "    # Insert data into the table\n",
    "    for idx, row in df.iterrows():\n",
    "        placeholders = \", \".join([\"?\" for _ in row])\n",
    "        insert_query = f\"INSERT INTO {table_name} VALUES ({placeholders})\"\n",
    "        try:\n",
    "            cursor.execute(insert_query, *row)\n",
    "        except Exception as e:\n",
    "            print(f\"Error inserting row {idx}: {row.to_dict()}\")\n",
    "            print(f\"Error: {e}\")\n",
    "            continue\n",
    "    conn.commit()\n",
    "    conn.close()\n",
    "    print(f\"Data uploaded to SQL Server table: {table_name}\")\n",
    "\n",
    "# === Fetch All Datasets ===\n",
    "dataset_paths = {\n",
    "    \"team_names\": r\"C:\\\\Users\\\\denos\\\\OneDrive\\\\Projects\\\\AU_Soccer\\\\AU_processed_team_names.csv\",\n",
    "    \"player_names\": r\"C:\\\\Users\\\\denos\\\\OneDrive\\\\Projects\\\\AU_Soccer\\\\AU_processed_player_names.csv\",\n",
    "    \"match_data\": r\"C:\\\\Users\\\\denos\\\\OneDrive\\\\Projects\\\\AU_Soccer\\\\AU_processed_match_data.csv\",\n",
    "    \"player_stats\": r\"C:\\\\Users\\\\denos\\\\OneDrive\\\\Projects\\\\AU_Soccer\\\\AU_processed_player_stats.csv\",\n",
    "    \"player_salaries\": r\"C:\\\\Users\\\\denos\\\\OneDrive\\\\Projects\\\\AU_Soccer\\\\AU_processed_player_salaries.csv\",\n",
    "}\n",
    "\n",
    "processed_datasets = {}\n",
    "for dataset_name, path in dataset_paths.items():\n",
    "    print(f\"\\nProcessing {dataset_name}...\")\n",
    "    df = pd.read_csv(path)\n",
    "    df = handle_duplicate_rows(df, dataset_name)\n",
    "    df = handle_duplicate_columns(df, dataset_name)\n",
    "    df = clean_dataset(df, dataset_name)\n",
    "    processed_datasets[dataset_name] = df\n",
    "\n",
    "# === Save and Upload Datasets ===\n",
    "for dataset_name, df in processed_datasets.items():\n",
    "    table_name = f\"AU_{dataset_name}\"\n",
    "    upload_to_sql(df, table_name, \"RAMSEY_BOLTON\\\\SQLEXPRESS\", \"SoccerProjects\")\n",
    "\n",
    "# === Process and Upload Change Logs ===\n",
    "print(\"\\nProcessing and Uploading Change Logs...\")\n",
    "\n",
    "change_logs_list = []\n",
    "for dataset_name, logs in change_logs.items():\n",
    "    for log in logs:\n",
    "        truncated_log = log[:4000] if len(log) > 4000 else log\n",
    "        change_logs_list.append({\"Dataset\": dataset_name, \"LogEntry\": truncated_log})\n",
    "\n",
    "change_logs_df = pd.DataFrame(change_logs_list)\n",
    "\n",
    "if not change_logs_df.empty:\n",
    "    change_logs_df = validate_and_cast_data(change_logs_df)\n",
    "    change_logs_path = os.path.join(export_dir, \"AU_change_logs.csv\")\n",
    "    change_logs_df.to_csv(change_logs_path, index=False)\n",
    "    print(f\"Change logs saved to {change_logs_path}\")\n",
    "\n",
    "    upload_to_sql(change_logs_df, \"AU_ChangeLogs\", \"RAMSEY_BOLTON\\\\SQLEXPRESS\", \"SoccerProjects\")\n",
    "    print(\"Change logs uploaded to SQL Server.\")\n",
    "else:\n",
    "    print(\"No changes were logged during this run.\")\n"
   ]
  },
  {
   "cell_type": "code",
   "execution_count": 27,
   "metadata": {},
   "outputs": [
    {
     "name": "stderr",
     "output_type": "stream",
     "text": [
      "C:\\Users\\denos\\AppData\\Local\\Temp\\ipykernel_24832\\3710929820.py:57: UserWarning: pandas only supports SQLAlchemy connectable (engine/connection) or database string URI or sqlite3 DBAPI2 connection. Other DBAPI2 objects are not tested. Please consider using SQLAlchemy.\n",
      "  df = pd.read_sql(query, conn)\n"
     ]
    },
    {
     "data": {
      "application/vnd.plotly.v1+json": {
       "config": {
        "plotlyServerURL": "https://plot.ly"
       },
       "data": [
        {
         "hovertemplate": "<b>%{hovertext}</b><br><br>Guaranteed Compensation ($)=%{x}<br>Expected Points Added=%{y}<extra></extra>",
         "hovertext": [
          "Gabriel Pec",
          "Jonathan Rodríguez",
          "Hugo Cuypers",
          "Petar Musa",
          "Luis Suárez",
          "Joseph Paintsil",
          "Amahl Pellegrino",
          "Luca Orellano",
          "Emil Forsberg",
          "Liel Abada",
          "Hannes Wolf",
          "Kelvin Yeboah",
          "Iuri Tavares",
          "Hernán López",
          "Matías Cóccaro",
          "Jacob Murrell",
          "Luis Muriel",
          "Ezequiel Ponce",
          "Kevin Kelsy",
          "Logan Farrington",
          "Pavel Bucha",
          "David Martínez",
          "Aleksey Miranchuk",
          "Tomas Totland",
          "Matty Longstaff",
          "Guilherme Biro",
          "Matt Crooks",
          "Cedric Teuchert",
          "Dennis Gjengaar",
          "Bjørn Inge Utvik",
          "Agustín Ojeda",
          "Dominic Iankov",
          "Djibril Diani",
          "Pedro de la Vega",
          "Marcelo Weigandt",
          "Marino Hinestroza",
          "Vitor Costa",
          "Fidel Barajas",
          "Marcel Hartel",
          "Bartosz Slisz",
          "Diogo Gonçalves",
          "Stian Gregersen",
          "Joaquín Sosa",
          "Tyrese Spicer",
          "Matías Rojas",
          "Allan Arigoni",
          "Tyger Smalls",
          "Malachi Jones",
          "Pep Biel",
          "Hosei Kijima",
          "Osman Bukari",
          "Patrickson Delgado",
          "David Brekalo",
          "Nikola Petkovic",
          "Alhassan Yusuf",
          "Marco Reus",
          "Felipe Carballo",
          "Alenis Vargas",
          "Noah Eile",
          "Andrés Herrera",
          "Georgi Minoungou",
          "Garrison Tubbs",
          "Jovan Mijatović",
          "Jordan Adebayo-Smith",
          "Tim Ream",
          "Dominik Marczuk",
          "Olivier Giroud",
          "Forster Ajago",
          "Jefferson Díaz",
          "Leo Afonso",
          "Lachlan Brook",
          "Luca Langoni",
          "Giuseppe Bovalina",
          "Alexandros Katranis",
          "Efrain Morales",
          "Nicolas Fleuriau Chateau",
          "Mikkel Desler",
          "Show",
          "Loïc Mesanvi",
          "Bruno Wilson",
          "David Schnegg",
          "Federico Redondo",
          "Joaquín Pereyra",
          "Jannes Horn",
          "Chidozie Awaziem",
          "Yutaro Tsukada",
          "Kevin Long",
          "Markus Anderson",
          "Pedro Amador",
          "Conner Antley",
          "Michael Edwards",
          "Miki Yamane",
          "Matti Peltola",
          "Dylan Chambost",
          "Édier Ocampo",
          "Patrick Yazbek",
          "Danley Jean Jacques",
          "Peyton Miller",
          "Omar Campos",
          "Belal Halbouni",
          "Alejandro Bran",
          "João Pedro",
          "Strahinja Tanasijević",
          "Justin Reynolds",
          "Kimani Stewart-Baynes",
          "Oleksandr Svatok",
          "Stuart Armstrong",
          "Christian McFarlane",
          "Luis Müller",
          "Lawrence Ennali",
          "Nicolás Freire",
          "Jamie Paterson",
          "Boris Enow",
          "Yannick Bright",
          "Victor Eriksson",
          "Joaquín Fernández",
          "Tom Pearce",
          "Tomas Pondeca",
          "Carl Sainté",
          "Nimfasha Berchimas",
          "Malcolm Fry",
          "Tobias Salquist",
          "Samuel Shashoua",
          "Marlon",
          "Tomás Ángel",
          "Aidan O'Connor",
          "Henrich Ravas",
          "Isaiah Foster",
          "Jamar Ricketts",
          "Tarik Scott",
          "Christopher Olney Jr.",
          "Finn Surman",
          "Tucker Lepley",
          "Roald Mitchell",
          "Wayne Frederick",
          "Bryant Farkarlun",
          "Hugo Bacharach",
          "Jackson Travis",
          "Alessandro Biello",
          "Dawid Bugaj",
          "Nicksoen Gomis",
          "Cole Mrowka",
          "Mohammed Sofo",
          "Andrew Thomas",
          "Abraham Romero",
          "Oscar Verhoeven",
          "Taha Habroune",
          "Idan Toklomati",
          "Matthew Edwards",
          "Morris Duggan",
          "Alec Smir",
          "David Martínez",
          "Lamine Diack",
          "Hugo Lloris",
          "Tommy Silva",
          "Jeremy Garay",
          "Jake Girdwood-Reich",
          "Joey Skinner",
          "Charles Sharp",
          "Adam Beaudry",
          "Javier Otero",
          "London Aghedo",
          "Josh Cohen",
          "Andrew Rick",
          "Jefferson Valverde",
          "Óscar Ustari",
          "Nicholas Scardina",
          "Nicholas Hagen",
          "Emiro Garcés",
          "Matthew Bell",
          "Jeorgio Kocevski",
          "Oliver Semmle",
          "Cavan Sullivan",
          "Shakur Mohammed",
          "Michael Wentzel",
          "Isaiah Jones",
          "Evan Louro",
          "Nikolas Dyhr"
         ],
         "legendgroup": "",
         "marker": {
          "color": "#636efa",
          "symbol": "circle"
         },
         "mode": "markers",
         "name": "",
         "orientation": "v",
         "showlegend": false,
         "type": "scatter",
         "x": [
          2459000,
          2627500,
          3528044,
          2230000,
          1500000,
          3358000,
          912500,
          89716,
          6035625,
          2448500,
          1510000,
          1427200,
          101769,
          1020000,
          888000,
          71401,
          4336150,
          2822200,
          485533,
          71401,
          498782,
          500000,
          3685441,
          314763,
          216376,
          200000,
          1000000,
          1092500,
          398769,
          502083,
          547833,
          385000,
          297944,
          1164000,
          384708,
          574750,
          388333,
          96177,
          2183113,
          830000,
          1797108,
          1120000,
          251500,
          73901,
          516667,
          472000,
          71401,
          71401,
          2214147,
          71401,
          1000000,
          176280,
          683000,
          406250,
          895311,
          1216667,
          1169777,
          71401,
          473200,
          737158,
          89716,
          71401,
          687500,
          88621,
          577750,
          675500,
          3675000,
          71401,
          350000,
          71401,
          274883,
          682283,
          73401,
          469875,
          97735,
          71401,
          500000,
          504350,
          74392,
          1118333,
          506250,
          255000,
          699800,
          324667,
          1205675,
          71401,
          277500,
          102000,
          242612,
          91383,
          130000,
          616667,
          757818,
          482219,
          378299,
          491013,
          602100,
          73401,
          675000,
          110000,
          125000,
          101311,
          308750,
          71401,
          72401,
          300000,
          2877774,
          112972,
          71401,
          524250,
          1000000,
          534444,
          699795,
          74426,
          264375,
          1072083,
          507625,
          71401,
          71401,
          104650,
          76961,
          454167,
          90549,
          1350000,
          368750,
          71401,
          267000,
          94095,
          72988,
          105658,
          85066,
          202183,
          73087,
          91809,
          71401,
          71401,
          73285,
          92216,
          71401,
          267600,
          71401,
          91409,
          178000,
          150000,
          89716,
          103111,
          83401,
          427700,
          71401,
          71401,
          89716,
          289839,
          864150,
          350000,
          77383,
          93766,
          304977,
          76401,
          71401,
          75568,
          71401,
          71401,
          303500,
          81316,
          201657,
          89716,
          71401,
          100340,
          238000,
          71847,
          71401,
          106040,
          364000,
          95716,
          71401,
          75401,
          94716,
          309200
         ],
         "xaxis": "x",
         "y": [
          9.7986,
          8.444,
          7.7858,
          7.6466,
          7.1872,
          6.0091,
          5.9243,
          4.5344,
          4.3584,
          3.7251,
          3.5516,
          3.41,
          3.1274,
          3.1072,
          3.0506,
          2.8975,
          2.6841,
          2.5263,
          2.3784,
          2.1011,
          2.0887,
          2.0686,
          1.93,
          1.8643,
          1.7448,
          1.7061,
          1.4668,
          1.4036,
          1.2862,
          1.2774,
          1.26,
          1.2584,
          1.2458,
          1.1878,
          1.1694,
          1.161,
          1.0752,
          1.0664,
          0.9531,
          0.8977,
          0.8753,
          0.8571,
          0.8496,
          0.8268,
          0.8239,
          0.7886,
          0.7562,
          0.7381,
          0.7046,
          0.6959,
          0.6582,
          0.6382,
          0.6369,
          0.6229,
          0.604,
          0.5697,
          0.5637,
          0.5497,
          0.5493,
          0.535,
          0.5251,
          0.5172,
          0.495,
          0.4948,
          0.4873,
          0.4423,
          0.434,
          0.4305,
          0.4199,
          0.41,
          0.3988,
          0.3672,
          0.3623,
          0.3413,
          0.34,
          0.321,
          0.2967,
          0.2664,
          0.266,
          0.2573,
          0.2565,
          0.2338,
          0.223,
          0.217,
          0.2169,
          0.2115,
          0.2064,
          0.2014,
          0.1688,
          0.1677,
          0.1652,
          0.163,
          0.1563,
          0.1486,
          0.1431,
          0.1396,
          0.1309,
          0.124,
          0.1197,
          0.1117,
          0.1005,
          0.0979,
          0.0895,
          0.0815,
          0.0718,
          0.067,
          0.0597,
          0.0553,
          0.0526,
          0.0517,
          0.0416,
          0.0337,
          0.0304,
          0.0264,
          0.0264,
          0.0219,
          0.0194,
          0.0191,
          0.0101,
          0.005,
          0.0045,
          0.0038,
          0.0015,
          0.0002,
          0.0002,
          0,
          0,
          0,
          0,
          0,
          0,
          0,
          0,
          0,
          0,
          0,
          0,
          0,
          0,
          0,
          0,
          0,
          0,
          0,
          0,
          0,
          0,
          0,
          0,
          0,
          0,
          0,
          0,
          0,
          0,
          0,
          0,
          0,
          0,
          0,
          0,
          0,
          0,
          0,
          0,
          0,
          0,
          0,
          0,
          0,
          0,
          0,
          0,
          0,
          0,
          0,
          0,
          0
         ],
         "yaxis": "y"
        }
       ],
       "layout": {
        "hoverlabel": {
         "font": {
          "size": 12
         }
        },
        "legend": {
         "tracegroupgap": 0
        },
        "template": {
         "data": {
          "bar": [
           {
            "error_x": {
             "color": "#2a3f5f"
            },
            "error_y": {
             "color": "#2a3f5f"
            },
            "marker": {
             "line": {
              "color": "white",
              "width": 0.5
             },
             "pattern": {
              "fillmode": "overlay",
              "size": 10,
              "solidity": 0.2
             }
            },
            "type": "bar"
           }
          ],
          "barpolar": [
           {
            "marker": {
             "line": {
              "color": "white",
              "width": 0.5
             },
             "pattern": {
              "fillmode": "overlay",
              "size": 10,
              "solidity": 0.2
             }
            },
            "type": "barpolar"
           }
          ],
          "carpet": [
           {
            "aaxis": {
             "endlinecolor": "#2a3f5f",
             "gridcolor": "#C8D4E3",
             "linecolor": "#C8D4E3",
             "minorgridcolor": "#C8D4E3",
             "startlinecolor": "#2a3f5f"
            },
            "baxis": {
             "endlinecolor": "#2a3f5f",
             "gridcolor": "#C8D4E3",
             "linecolor": "#C8D4E3",
             "minorgridcolor": "#C8D4E3",
             "startlinecolor": "#2a3f5f"
            },
            "type": "carpet"
           }
          ],
          "choropleth": [
           {
            "colorbar": {
             "outlinewidth": 0,
             "ticks": ""
            },
            "type": "choropleth"
           }
          ],
          "contour": [
           {
            "colorbar": {
             "outlinewidth": 0,
             "ticks": ""
            },
            "colorscale": [
             [
              0,
              "#0d0887"
             ],
             [
              0.1111111111111111,
              "#46039f"
             ],
             [
              0.2222222222222222,
              "#7201a8"
             ],
             [
              0.3333333333333333,
              "#9c179e"
             ],
             [
              0.4444444444444444,
              "#bd3786"
             ],
             [
              0.5555555555555556,
              "#d8576b"
             ],
             [
              0.6666666666666666,
              "#ed7953"
             ],
             [
              0.7777777777777778,
              "#fb9f3a"
             ],
             [
              0.8888888888888888,
              "#fdca26"
             ],
             [
              1,
              "#f0f921"
             ]
            ],
            "type": "contour"
           }
          ],
          "contourcarpet": [
           {
            "colorbar": {
             "outlinewidth": 0,
             "ticks": ""
            },
            "type": "contourcarpet"
           }
          ],
          "heatmap": [
           {
            "colorbar": {
             "outlinewidth": 0,
             "ticks": ""
            },
            "colorscale": [
             [
              0,
              "#0d0887"
             ],
             [
              0.1111111111111111,
              "#46039f"
             ],
             [
              0.2222222222222222,
              "#7201a8"
             ],
             [
              0.3333333333333333,
              "#9c179e"
             ],
             [
              0.4444444444444444,
              "#bd3786"
             ],
             [
              0.5555555555555556,
              "#d8576b"
             ],
             [
              0.6666666666666666,
              "#ed7953"
             ],
             [
              0.7777777777777778,
              "#fb9f3a"
             ],
             [
              0.8888888888888888,
              "#fdca26"
             ],
             [
              1,
              "#f0f921"
             ]
            ],
            "type": "heatmap"
           }
          ],
          "heatmapgl": [
           {
            "colorbar": {
             "outlinewidth": 0,
             "ticks": ""
            },
            "colorscale": [
             [
              0,
              "#0d0887"
             ],
             [
              0.1111111111111111,
              "#46039f"
             ],
             [
              0.2222222222222222,
              "#7201a8"
             ],
             [
              0.3333333333333333,
              "#9c179e"
             ],
             [
              0.4444444444444444,
              "#bd3786"
             ],
             [
              0.5555555555555556,
              "#d8576b"
             ],
             [
              0.6666666666666666,
              "#ed7953"
             ],
             [
              0.7777777777777778,
              "#fb9f3a"
             ],
             [
              0.8888888888888888,
              "#fdca26"
             ],
             [
              1,
              "#f0f921"
             ]
            ],
            "type": "heatmapgl"
           }
          ],
          "histogram": [
           {
            "marker": {
             "pattern": {
              "fillmode": "overlay",
              "size": 10,
              "solidity": 0.2
             }
            },
            "type": "histogram"
           }
          ],
          "histogram2d": [
           {
            "colorbar": {
             "outlinewidth": 0,
             "ticks": ""
            },
            "colorscale": [
             [
              0,
              "#0d0887"
             ],
             [
              0.1111111111111111,
              "#46039f"
             ],
             [
              0.2222222222222222,
              "#7201a8"
             ],
             [
              0.3333333333333333,
              "#9c179e"
             ],
             [
              0.4444444444444444,
              "#bd3786"
             ],
             [
              0.5555555555555556,
              "#d8576b"
             ],
             [
              0.6666666666666666,
              "#ed7953"
             ],
             [
              0.7777777777777778,
              "#fb9f3a"
             ],
             [
              0.8888888888888888,
              "#fdca26"
             ],
             [
              1,
              "#f0f921"
             ]
            ],
            "type": "histogram2d"
           }
          ],
          "histogram2dcontour": [
           {
            "colorbar": {
             "outlinewidth": 0,
             "ticks": ""
            },
            "colorscale": [
             [
              0,
              "#0d0887"
             ],
             [
              0.1111111111111111,
              "#46039f"
             ],
             [
              0.2222222222222222,
              "#7201a8"
             ],
             [
              0.3333333333333333,
              "#9c179e"
             ],
             [
              0.4444444444444444,
              "#bd3786"
             ],
             [
              0.5555555555555556,
              "#d8576b"
             ],
             [
              0.6666666666666666,
              "#ed7953"
             ],
             [
              0.7777777777777778,
              "#fb9f3a"
             ],
             [
              0.8888888888888888,
              "#fdca26"
             ],
             [
              1,
              "#f0f921"
             ]
            ],
            "type": "histogram2dcontour"
           }
          ],
          "mesh3d": [
           {
            "colorbar": {
             "outlinewidth": 0,
             "ticks": ""
            },
            "type": "mesh3d"
           }
          ],
          "parcoords": [
           {
            "line": {
             "colorbar": {
              "outlinewidth": 0,
              "ticks": ""
             }
            },
            "type": "parcoords"
           }
          ],
          "pie": [
           {
            "automargin": true,
            "type": "pie"
           }
          ],
          "scatter": [
           {
            "fillpattern": {
             "fillmode": "overlay",
             "size": 10,
             "solidity": 0.2
            },
            "type": "scatter"
           }
          ],
          "scatter3d": [
           {
            "line": {
             "colorbar": {
              "outlinewidth": 0,
              "ticks": ""
             }
            },
            "marker": {
             "colorbar": {
              "outlinewidth": 0,
              "ticks": ""
             }
            },
            "type": "scatter3d"
           }
          ],
          "scattercarpet": [
           {
            "marker": {
             "colorbar": {
              "outlinewidth": 0,
              "ticks": ""
             }
            },
            "type": "scattercarpet"
           }
          ],
          "scattergeo": [
           {
            "marker": {
             "colorbar": {
              "outlinewidth": 0,
              "ticks": ""
             }
            },
            "type": "scattergeo"
           }
          ],
          "scattergl": [
           {
            "marker": {
             "colorbar": {
              "outlinewidth": 0,
              "ticks": ""
             }
            },
            "type": "scattergl"
           }
          ],
          "scattermapbox": [
           {
            "marker": {
             "colorbar": {
              "outlinewidth": 0,
              "ticks": ""
             }
            },
            "type": "scattermapbox"
           }
          ],
          "scatterpolar": [
           {
            "marker": {
             "colorbar": {
              "outlinewidth": 0,
              "ticks": ""
             }
            },
            "type": "scatterpolar"
           }
          ],
          "scatterpolargl": [
           {
            "marker": {
             "colorbar": {
              "outlinewidth": 0,
              "ticks": ""
             }
            },
            "type": "scatterpolargl"
           }
          ],
          "scatterternary": [
           {
            "marker": {
             "colorbar": {
              "outlinewidth": 0,
              "ticks": ""
             }
            },
            "type": "scatterternary"
           }
          ],
          "surface": [
           {
            "colorbar": {
             "outlinewidth": 0,
             "ticks": ""
            },
            "colorscale": [
             [
              0,
              "#0d0887"
             ],
             [
              0.1111111111111111,
              "#46039f"
             ],
             [
              0.2222222222222222,
              "#7201a8"
             ],
             [
              0.3333333333333333,
              "#9c179e"
             ],
             [
              0.4444444444444444,
              "#bd3786"
             ],
             [
              0.5555555555555556,
              "#d8576b"
             ],
             [
              0.6666666666666666,
              "#ed7953"
             ],
             [
              0.7777777777777778,
              "#fb9f3a"
             ],
             [
              0.8888888888888888,
              "#fdca26"
             ],
             [
              1,
              "#f0f921"
             ]
            ],
            "type": "surface"
           }
          ],
          "table": [
           {
            "cells": {
             "fill": {
              "color": "#EBF0F8"
             },
             "line": {
              "color": "white"
             }
            },
            "header": {
             "fill": {
              "color": "#C8D4E3"
             },
             "line": {
              "color": "white"
             }
            },
            "type": "table"
           }
          ]
         },
         "layout": {
          "annotationdefaults": {
           "arrowcolor": "#2a3f5f",
           "arrowhead": 0,
           "arrowwidth": 1
          },
          "autotypenumbers": "strict",
          "coloraxis": {
           "colorbar": {
            "outlinewidth": 0,
            "ticks": ""
           }
          },
          "colorscale": {
           "diverging": [
            [
             0,
             "#8e0152"
            ],
            [
             0.1,
             "#c51b7d"
            ],
            [
             0.2,
             "#de77ae"
            ],
            [
             0.3,
             "#f1b6da"
            ],
            [
             0.4,
             "#fde0ef"
            ],
            [
             0.5,
             "#f7f7f7"
            ],
            [
             0.6,
             "#e6f5d0"
            ],
            [
             0.7,
             "#b8e186"
            ],
            [
             0.8,
             "#7fbc41"
            ],
            [
             0.9,
             "#4d9221"
            ],
            [
             1,
             "#276419"
            ]
           ],
           "sequential": [
            [
             0,
             "#0d0887"
            ],
            [
             0.1111111111111111,
             "#46039f"
            ],
            [
             0.2222222222222222,
             "#7201a8"
            ],
            [
             0.3333333333333333,
             "#9c179e"
            ],
            [
             0.4444444444444444,
             "#bd3786"
            ],
            [
             0.5555555555555556,
             "#d8576b"
            ],
            [
             0.6666666666666666,
             "#ed7953"
            ],
            [
             0.7777777777777778,
             "#fb9f3a"
            ],
            [
             0.8888888888888888,
             "#fdca26"
            ],
            [
             1,
             "#f0f921"
            ]
           ],
           "sequentialminus": [
            [
             0,
             "#0d0887"
            ],
            [
             0.1111111111111111,
             "#46039f"
            ],
            [
             0.2222222222222222,
             "#7201a8"
            ],
            [
             0.3333333333333333,
             "#9c179e"
            ],
            [
             0.4444444444444444,
             "#bd3786"
            ],
            [
             0.5555555555555556,
             "#d8576b"
            ],
            [
             0.6666666666666666,
             "#ed7953"
            ],
            [
             0.7777777777777778,
             "#fb9f3a"
            ],
            [
             0.8888888888888888,
             "#fdca26"
            ],
            [
             1,
             "#f0f921"
            ]
           ]
          },
          "colorway": [
           "#636efa",
           "#EF553B",
           "#00cc96",
           "#ab63fa",
           "#FFA15A",
           "#19d3f3",
           "#FF6692",
           "#B6E880",
           "#FF97FF",
           "#FECB52"
          ],
          "font": {
           "color": "#2a3f5f"
          },
          "geo": {
           "bgcolor": "white",
           "lakecolor": "white",
           "landcolor": "white",
           "showlakes": true,
           "showland": true,
           "subunitcolor": "#C8D4E3"
          },
          "hoverlabel": {
           "align": "left"
          },
          "hovermode": "closest",
          "mapbox": {
           "style": "light"
          },
          "paper_bgcolor": "white",
          "plot_bgcolor": "white",
          "polar": {
           "angularaxis": {
            "gridcolor": "#EBF0F8",
            "linecolor": "#EBF0F8",
            "ticks": ""
           },
           "bgcolor": "white",
           "radialaxis": {
            "gridcolor": "#EBF0F8",
            "linecolor": "#EBF0F8",
            "ticks": ""
           }
          },
          "scene": {
           "xaxis": {
            "backgroundcolor": "white",
            "gridcolor": "#DFE8F3",
            "gridwidth": 2,
            "linecolor": "#EBF0F8",
            "showbackground": true,
            "ticks": "",
            "zerolinecolor": "#EBF0F8"
           },
           "yaxis": {
            "backgroundcolor": "white",
            "gridcolor": "#DFE8F3",
            "gridwidth": 2,
            "linecolor": "#EBF0F8",
            "showbackground": true,
            "ticks": "",
            "zerolinecolor": "#EBF0F8"
           },
           "zaxis": {
            "backgroundcolor": "white",
            "gridcolor": "#DFE8F3",
            "gridwidth": 2,
            "linecolor": "#EBF0F8",
            "showbackground": true,
            "ticks": "",
            "zerolinecolor": "#EBF0F8"
           }
          },
          "shapedefaults": {
           "line": {
            "color": "#2a3f5f"
           }
          },
          "ternary": {
           "aaxis": {
            "gridcolor": "#DFE8F3",
            "linecolor": "#A2B1C6",
            "ticks": ""
           },
           "baxis": {
            "gridcolor": "#DFE8F3",
            "linecolor": "#A2B1C6",
            "ticks": ""
           },
           "bgcolor": "white",
           "caxis": {
            "gridcolor": "#DFE8F3",
            "linecolor": "#A2B1C6",
            "ticks": ""
           }
          },
          "title": {
           "x": 0.05
          },
          "xaxis": {
           "automargin": true,
           "gridcolor": "#EBF0F8",
           "linecolor": "#EBF0F8",
           "ticks": "",
           "title": {
            "standoff": 15
           },
           "zerolinecolor": "#EBF0F8",
           "zerolinewidth": 2
          },
          "yaxis": {
           "automargin": true,
           "gridcolor": "#EBF0F8",
           "linecolor": "#EBF0F8",
           "ticks": "",
           "title": {
            "standoff": 15
           },
           "zerolinecolor": "#EBF0F8",
           "zerolinewidth": 2
          }
         }
        },
        "title": {
         "font": {
          "size": 20
         },
         "text": "Player Value Per Dollar"
        },
        "xaxis": {
         "anchor": "y",
         "domain": [
          0,
          1
         ],
         "title": {
          "text": "Guaranteed Compensation ($)"
         }
        },
        "yaxis": {
         "anchor": "x",
         "domain": [
          0,
          1
         ],
         "title": {
          "text": "Expected Points Added"
         }
        }
       }
      }
     },
     "metadata": {},
     "output_type": "display_data"
    }
   ],
   "source": [
    "import plotly.express as px\n",
    "\n",
    "# Database connection\n",
    "server = \"RAMSEY_BOLTON\\\\SQLEXPRESS\"\n",
    "database = \"SoccerProjects\"\n",
    "connection_string = f\"DRIVER={{ODBC Driver 17 for SQL Server}};SERVER={server};DATABASE={database};Trusted_Connection=yes;\"\n",
    "\n",
    "# SQL Query\n",
    "query = \"\"\"\n",
    "WITH PlayerAges AS (\n",
    "    SELECT \n",
    "        player_id,\n",
    "        player_name\n",
    "    FROM \n",
    "        SoccerProjects.dbo.AU_player_names\n",
    "),\n",
    "DistinctPlayerSalaries AS (\n",
    "    SELECT \n",
    "        ps.player_id,\n",
    "        CAST(ps.guaranteed_compensation AS DECIMAL(15, 2)) AS guaranteed_compensation,\n",
    "        ROW_NUMBER() OVER (PARTITION BY ps.player_id ORDER BY ps.season_name DESC) AS row_num\n",
    "    FROM \n",
    "        SoccerProjects.dbo.AU_player_salaries ps\n",
    "    WHERE \n",
    "        ps.season_name = 2024\n",
    "),\n",
    "DistinctPlayerStats AS (\n",
    "    SELECT \n",
    "        ps.player_id,\n",
    "        ps.xpoints_added,\n",
    "        ROW_NUMBER() OVER (PARTITION BY ps.player_id ORDER BY ps.season_name DESC) AS row_num\n",
    "    FROM \n",
    "        SoccerProjects.dbo.AU_player_stats ps\n",
    "    WHERE \n",
    "        ps.season_name = 2024\n",
    ")\n",
    "SELECT \n",
    "    pa.player_name,\n",
    "    s.guaranteed_compensation,\n",
    "    ps.xpoints_added\n",
    "FROM \n",
    "    PlayerAges pa\n",
    "LEFT JOIN \n",
    "    DistinctPlayerSalaries s\n",
    "    ON pa.player_id = s.player_id AND s.row_num = 1\n",
    "LEFT JOIN \n",
    "    DistinctPlayerStats ps\n",
    "    ON pa.player_id = ps.player_id AND ps.row_num = 1\n",
    "WHERE \n",
    "    s.guaranteed_compensation IS NOT NULL AND ps.xpoints_added IS NOT NULL\n",
    "ORDER BY \n",
    "    ps.xpoints_added DESC;\n",
    "\"\"\"\n",
    "\n",
    "# Execute query\n",
    "with pyodbc.connect(connection_string) as conn:\n",
    "    df = pd.read_sql(query, conn)\n",
    "\n",
    "# Visualize with Plotly\n",
    "fig = px.scatter(\n",
    "    df,\n",
    "    x=\"guaranteed_compensation\",\n",
    "    y=\"xpoints_added\",\n",
    "    hover_name=\"player_name\",\n",
    "    title=\"Player Value Per Dollar\",\n",
    "    labels={\n",
    "        \"guaranteed_compensation\": \"Guaranteed Compensation ($)\",\n",
    "        \"xpoints_added\": \"Expected Points Added\"\n",
    "    }\n",
    ")\n",
    "\n",
    "# Enhance layout\n",
    "fig.update_layout(\n",
    "    xaxis_title=\"Guaranteed Compensation ($)\",\n",
    "    yaxis_title=\"Expected Points Added\",\n",
    "    template=\"plotly_white\",\n",
    "    title_font_size=20,\n",
    "    hoverlabel=dict(font_size=12)\n",
    ")\n",
    "\n",
    "# Show plot\n",
    "fig.show()\n"
   ]
  }
 ],
 "metadata": {
  "kernelspec": {
   "display_name": "Python 3",
   "language": "python",
   "name": "python3"
  },
  "language_info": {
   "codemirror_mode": {
    "name": "ipython",
    "version": 3
   },
   "file_extension": ".py",
   "mimetype": "text/x-python",
   "name": "python",
   "nbconvert_exporter": "python",
   "pygments_lexer": "ipython3",
   "version": "3.12.7"
  }
 },
 "nbformat": 4,
 "nbformat_minor": 2
}
